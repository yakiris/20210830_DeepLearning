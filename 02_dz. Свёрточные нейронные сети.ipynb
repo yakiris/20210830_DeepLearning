{
 "cells": [
  {
   "cell_type": "markdown",
   "metadata": {
    "colab_type": "text",
    "id": "-HfoyWJlf6oQ"
   },
   "source": [
    "# Тема: Свёрточные нейронные сети."
   ]
  },
  {
   "cell_type": "code",
   "execution_count": 1,
   "metadata": {
    "colab": {},
    "colab_type": "code",
    "id": "JWtvVfJs2dnO"
   },
   "outputs": [],
   "source": [
    "%matplotlib inline\n",
    "import matplotlib.pyplot as plt\n",
    "import numpy as np\n",
    "\n",
    "import tensorflow as tf"
   ]
  },
  {
   "cell_type": "markdown",
   "metadata": {
    "colab_type": "text",
    "id": "YdydP3kl2dnZ"
   },
   "source": [
    "## Загрузка и подготовка датасета CIFAR-10"
   ]
  },
  {
   "cell_type": "code",
   "execution_count": 89,
   "metadata": {
    "colab": {
     "base_uri": "https://localhost:8080/",
     "height": 122
    },
    "colab_type": "code",
    "executionInfo": {
     "elapsed": 9733,
     "status": "ok",
     "timestamp": 1583351552409,
     "user": {
      "displayName": "Dmitry Korobchenko",
      "photoUrl": "https://lh3.googleusercontent.com/a-/AOh14GiR_zu5ey7cSjhhTZXOzRX-WoRqAHYVsSnM9NFQRQ=s64",
      "userId": "07436259423621433317"
     },
     "user_tz": -180
    },
    "id": "XZlXiOx02dna",
    "outputId": "afd95b37-3cf7-4494-decb-5089b508f9bb"
   },
   "outputs": [
    {
     "name": "stdout",
     "output_type": "stream",
     "text": [
      "(50000, 32, 32, 1) float32\n",
      "(10000, 32, 32, 1) float32\n",
      "(50000,) int32\n",
      "(10000,) int32\n"
     ]
    }
   ],
   "source": [
    "(train_x, train_y), (test_x, test_y) = tf.keras.datasets.cifar10.load_data()\n",
    "\n",
    "train_x = train_x[:,:,:,0].reshape(-1, 32, 32, 1).astype(np.float32) / 255.\n",
    "test_x = test_x[:,:,:,0].reshape(-1, 32, 32, 1).astype(np.float32) / 255.\n",
    "\n",
    "train_y = train_y[:, 0].astype(np.int32)\n",
    "test_y = test_y[:, 0].astype(np.int32)\n",
    "\n",
    "print(train_x.shape, train_x.dtype)\n",
    "print(test_x.shape, test_x.dtype)\n",
    "print(train_y.shape, train_y.dtype)\n",
    "print(test_y.shape, test_y.dtype)"
   ]
  },
  {
   "cell_type": "markdown",
   "metadata": {
    "colab_type": "text",
    "id": "hOWFXq4D2dng"
   },
   "source": [
    "## Визуализация датасета CIFAR-10"
   ]
  },
  {
   "cell_type": "code",
   "execution_count": 90,
   "metadata": {
    "colab": {
     "base_uri": "https://localhost:8080/",
     "height": 349
    },
    "colab_type": "code",
    "executionInfo": {
     "elapsed": 7843,
     "status": "ok",
     "timestamp": 1583351553305,
     "user": {
      "displayName": "Dmitry Korobchenko",
      "photoUrl": "https://lh3.googleusercontent.com/a-/AOh14GiR_zu5ey7cSjhhTZXOzRX-WoRqAHYVsSnM9NFQRQ=s64",
      "userId": "07436259423621433317"
     },
     "user_tz": -180
    },
    "id": "m3hxPxwH2dnh",
    "outputId": "3eb0b3a1-920e-4e2b-e381-9a7825c34bce"
   },
   "outputs": [
    {
     "data": {
      "image/png": "[encoded data removed]",
      "text/plain": [
       "<Figure size 1152x576 with 6 Axes>"
      ]
     },
     "metadata": {},
     "output_type": "display_data"
    }
   ],
   "source": [
    "some_samples = train_x[:6, ...]\n",
    "\n",
    "fig = plt.figure(figsize=(16, 8))\n",
    "for j in range(some_samples.shape[0]):\n",
    "    ax = fig.add_subplot(1, 6, j+1)\n",
    "    ax.imshow(some_samples[j,:,:,0], cmap='gray')\n",
    "    plt.xticks([]), plt.yticks([])\n",
    "plt.show()"
   ]
  },
  {
   "cell_type": "markdown",
   "metadata": {
    "colab_type": "text",
    "id": "LQHQd5kR2dnk"
   },
   "source": [
    "## Создание пайплайна данных"
   ]
  },
  {
   "cell_type": "code",
   "execution_count": 91,
   "metadata": {
    "colab": {},
    "colab_type": "code",
    "id": "7Gxfke852dnl"
   },
   "outputs": [],
   "source": [
    "NUM_EPOCHS = 4\n",
    "BATCH_SIZE = 64\n",
    "\n",
    "train_ds = tf.data.Dataset.from_tensor_slices((train_x, train_y))\n",
    "train_ds = train_ds.shuffle(buffer_size=train_x.shape[0])\n",
    "train_ds = train_ds.repeat(NUM_EPOCHS)\n",
    "train_ds = train_ds.batch(BATCH_SIZE)"
   ]
  },
  {
   "cell_type": "markdown",
   "metadata": {
    "colab_type": "text",
    "id": "jmgeYrHU2dnn"
   },
   "source": [
    "## Создание модели CNN"
   ]
  },
  {
   "cell_type": "code",
   "execution_count": 92,
   "metadata": {
    "colab": {},
    "colab_type": "code",
    "id": "PTEHGgJE2dno"
   },
   "outputs": [],
   "source": [
    "class Model(tf.keras.Model):\n",
    "    \n",
    "    def __init__(self):\n",
    "        super(Model, self).__init__()\n",
    "        \n",
    "        self.conv1 = tf.keras.layers.Conv2D(64, (5, 5), activation='relu', padding='same')\n",
    "        self.conv2 = tf.keras.layers.Conv2D(128, (5, 5), activation='relu', padding='same')\n",
    "        self.fc1 = tf.keras.layers.Dense(256, activation='relu')\n",
    "        self.fc2 = tf.keras.layers.Dense(10, activation=None)\n",
    "        self.max_pool = tf.keras.layers.MaxPooling2D((2, 2), (2, 2))\n",
    "        self.flatten = tf.keras.layers.Flatten()\n",
    "        \n",
    "    def call(self, inp):\n",
    "\n",
    "        out = self.conv1(inp)\n",
    "        out = self.max_pool(out)\n",
    "        out = self.conv2(out)\n",
    "        out = self.max_pool(out)\n",
    "        out = self.flatten(out)\n",
    "        out = self.fc1(out)\n",
    "        out = self.fc2(out)\n",
    "        \n",
    "        return out\n",
    "    \n",
    "model = Model()"
   ]
  },
  {
   "cell_type": "markdown",
   "metadata": {
    "colab_type": "text",
    "id": "-M-16XIh2dnq"
   },
   "source": [
    "## Функция потерь и функция вычисления точности"
   ]
  },
  {
   "cell_type": "code",
   "execution_count": 93,
   "metadata": {
    "colab": {},
    "colab_type": "code",
    "id": "TP3U3bv_2dnr"
   },
   "outputs": [],
   "source": [
    "def loss(logits, labels):\n",
    "    return tf.reduce_mean(tf.nn.sparse_softmax_cross_entropy_with_logits(\n",
    "        logits=logits, labels=labels))\n",
    "\n",
    "def accuracy(logits, labels):\n",
    "    predictions = tf.argmax(logits, axis=1, output_type=tf.int32)\n",
    "    return tf.reduce_mean(tf.cast(tf.equal(predictions, labels), dtype=tf.float32))"
   ]
  },
  {
   "cell_type": "markdown",
   "metadata": {
    "colab_type": "text",
    "id": "tKNAYTcZ2dnu"
   },
   "source": [
    "## Подготовка к обучению"
   ]
  },
  {
   "cell_type": "code",
   "execution_count": 94,
   "metadata": {
    "colab": {},
    "colab_type": "code",
    "id": "Mh6dMXhP2dnv"
   },
   "outputs": [],
   "source": [
    "LEARNING_RATE = 0.001\n",
    "\n",
    "# optimizer = tf.keras.optimizers.SGD(LEARNING_RATE)\n",
    "optimizer = tf.keras.optimizers.Adam(LEARNING_RATE)\n",
    "\n",
    "# writer = tf.summary.create_file_writer('logs/sgd')\n",
    "writer = tf.summary.create_file_writer('logs/adam')"
   ]
  },
  {
   "cell_type": "markdown",
   "metadata": {
    "colab_type": "text",
    "id": "Ow03okNy2dnx"
   },
   "source": [
    "## Цикл обучения модели"
   ]
  },
  {
   "cell_type": "code",
   "execution_count": 115,
   "metadata": {
    "colab": {
     "base_uri": "https://localhost:8080/",
     "height": 386
    },
    "colab_type": "code",
    "executionInfo": {
     "elapsed": 30435,
     "status": "ok",
     "timestamp": 1583353367713,
     "user": {
      "displayName": "Dmitry Korobchenko",
      "photoUrl": "https://lh3.googleusercontent.com/a-/AOh14GiR_zu5ey7cSjhhTZXOzRX-WoRqAHYVsSnM9NFQRQ=s64",
      "userId": "07436259423621433317"
     },
     "user_tz": -180
    },
    "id": "8KGR-0U_2dny",
    "outputId": "790a189d-02c8-4de4-998b-468daf677cf5"
   },
   "outputs": [
    {
     "name": "stdout",
     "output_type": "stream",
     "text": [
      "[   0] Accuracy: 62.50 %\n",
      "[ 200] Accuracy: 65.62 %\n",
      "[ 400] Accuracy: 63.67 %\n",
      "[ 600] Accuracy: 67.19 %\n",
      "[ 800] Accuracy: 64.06 %\n",
      "[1000] Accuracy: 62.89 %\n",
      "[1200] Accuracy: 63.67 %\n",
      "[1400] Accuracy: 64.45 %\n",
      "[1600] Accuracy: 66.02 %\n",
      "[1800] Accuracy: 64.45 %\n",
      "[2000] Accuracy: 66.02 %\n",
      "[2200] Accuracy: 64.45 %\n",
      "[2400] Accuracy: 65.23 %\n",
      "[2600] Accuracy: 65.23 %\n",
      "[2800] Accuracy: 66.02 %\n",
      "[3000] Accuracy: 68.75 %\n"
     ]
    }
   ],
   "source": [
    "for iteration, (images, labels) in enumerate(train_ds):\n",
    "    \n",
    "    # Forward\n",
    "    with tf.GradientTape() as tape:\n",
    "        logits = model(images)\n",
    "        loss_value = loss(logits, labels)\n",
    "        \n",
    "    # Backward\n",
    "    grads = tape.gradient(loss_value, model.trainable_variables)\n",
    "    optimizer.apply_gradients(zip(grads, model.trainable_variables))\n",
    "    \n",
    "    # Calc and display loss/accuracy\n",
    "    if iteration % 200 == 0:\n",
    "        test_logits = model(test_x[:256, ...])\n",
    "        accuracy_value = accuracy(test_logits, test_y[:256, ...])\n",
    "        \n",
    "        print(\"[%4d] Accuracy: %5.2f %%\" % (\n",
    "            iteration, accuracy_value.numpy()*100))\n",
    "        \n",
    "        with writer.as_default():\n",
    "            tf.summary.scalar('accuracy', accuracy_value, iteration)\n",
    "            tf.summary.scalar('loss', loss_value, iteration)\n"
   ]
  },
  {
   "cell_type": "markdown",
   "metadata": {
    "colab_type": "text",
    "id": "U3gyOFWy2dn1"
   },
   "source": [
    "## Оценка качества модели"
   ]
  },
  {
   "cell_type": "code",
   "execution_count": 116,
   "metadata": {
    "colab": {
     "base_uri": "https://localhost:8080/",
     "height": 70
    },
    "colab_type": "code",
    "executionInfo": {
     "elapsed": 596,
     "status": "ok",
     "timestamp": 1583353478860,
     "user": {
      "displayName": "Dmitry Korobchenko",
      "photoUrl": "https://lh3.googleusercontent.com/a-/AOh14GiR_zu5ey7cSjhhTZXOzRX-WoRqAHYVsSnM9NFQRQ=s64",
      "userId": "07436259423621433317"
     },
     "user_tz": -180
    },
    "id": "efFwTwwr2dn2",
    "outputId": "43fc10dd-0591-4da4-832e-68d54e51aa92"
   },
   "outputs": [
    {
     "name": "stdout",
     "output_type": "stream",
     "text": [
      "Final Accuracy: 67.01 %\n"
     ]
    }
   ],
   "source": [
    "test_logits = model(test_x)\n",
    "accuracy_value = accuracy(test_logits, test_y).numpy()\n",
    "print(\"Final Accuracy: %5.2f %%\" % (accuracy_value * 100))"
   ]
  },
  {
   "cell_type": "markdown",
   "metadata": {
    "colab_type": "text",
    "id": "zpHX2H6z2dn4"
   },
   "source": [
    "## Функция для инференса и отображения результата предсказания"
   ]
  },
  {
   "cell_type": "code",
   "execution_count": 117,
   "metadata": {
    "colab": {},
    "colab_type": "code",
    "id": "z35LM4tj2dn5"
   },
   "outputs": [],
   "source": [
    "def test_item(sample):\n",
    "    \n",
    "    logits = model(sample[None, ...])[0]\n",
    "    prediction = tf.nn.softmax(logits)\n",
    "    ans = np.argmax(prediction)\n",
    "    \n",
    "    fig = plt.figure(figsize=(12,4))\n",
    "\n",
    "    ax = fig.add_subplot(1, 2, 1)\n",
    "    ax.imshow(sample[:,:,0], cmap='gray')\n",
    "    plt.xticks([]), plt.yticks([])\n",
    "\n",
    "    ax = fig.add_subplot(1, 2, 2)\n",
    "    bar_list = ax.bar(np.arange(10), prediction, align='center')\n",
    "    bar_list[ans].set_color('g')\n",
    "    ax.set_xticks(np.arange(10))\n",
    "    ax.set_xlim([-1, 10])\n",
    "    ax.grid(True)\n",
    "\n",
    "    plt.show()\n",
    "    \n",
    "    print('Predicted: {}'.format(ans))"
   ]
  },
  {
   "cell_type": "markdown",
   "metadata": {
    "colab_type": "text",
    "id": "SI2T7-SC2dn8"
   },
   "source": [
    "## Запуск предсказания для изображения случайной цифры из CIFAR-10"
   ]
  },
  {
   "cell_type": "code",
   "execution_count": 141,
   "metadata": {
    "colab": {
     "base_uri": "https://localhost:8080/",
     "height": 300
    },
    "colab_type": "code",
    "executionInfo": {
     "elapsed": 690,
     "status": "ok",
     "timestamp": 1583353504627,
     "user": {
      "displayName": "Dmitry Korobchenko",
      "photoUrl": "https://lh3.googleusercontent.com/a-/AOh14GiR_zu5ey7cSjhhTZXOzRX-WoRqAHYVsSnM9NFQRQ=s64",
      "userId": "07436259423621433317"
     },
     "user_tz": -180
    },
    "id": "1rEgJ4E-2dn9",
    "outputId": "5879d600-3a60-49d0-c884-1f01ab6d469f"
   },
   "outputs": [
    {
     "data": {
      "image/png": "[encoded data removed]",
      "text/plain": [
       "<Figure size 864x288 with 2 Axes>"
      ]
     },
     "metadata": {
      "needs_background": "light"
     },
     "output_type": "display_data"
    },
    {
     "name": "stdout",
     "output_type": "stream",
     "text": [
      "Predicted: 0\n",
      "True Answer: 0\n"
     ]
    }
   ],
   "source": [
    "import random\n",
    "\n",
    "idx = random.randint(0, test_x.shape[0])\n",
    "sample = test_x[idx, ...]\n",
    "test_item(sample)\n",
    "\n",
    "print('True Answer: {}'.format(test_y[idx]))"
   ]
  },
  {
   "cell_type": "code",
   "execution_count": null,
   "metadata": {},
   "outputs": [],
   "source": []
  }
 ],
 "metadata": {
  "accelerator": "GPU",
  "colab": {
   "collapsed_sections": [],
   "name": "2_2_CNN_TF.ipynb",
   "provenance": []
  },
  "kernelspec": {
   "display_name": "Python 3",
   "language": "python",
   "name": "python3"
  },
  "language_info": {
   "codemirror_mode": {
    "name": "ipython",
    "version": 3
   },
   "file_extension": ".py",
   "mimetype": "text/x-python",
   "name": "python",
   "nbconvert_exporter": "python",
   "pygments_lexer": "ipython3",
   "version": "3.8.8"
  }
 },
 "nbformat": 4,
 "nbformat_minor": 1
}
